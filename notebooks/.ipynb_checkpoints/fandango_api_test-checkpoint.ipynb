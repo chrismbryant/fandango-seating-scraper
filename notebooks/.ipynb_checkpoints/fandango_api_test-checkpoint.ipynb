{
 "cells": [
  {
   "cell_type": "markdown",
   "metadata": {},
   "source": [
    "# Testing the Fandango API"
   ]
  },
  {
   "cell_type": "code",
   "execution_count": 1,
   "metadata": {
    "collapsed": true
   },
   "outputs": [],
   "source": [
    "import json\n",
    "\n",
    "with open(\"../fandango_api/api_key.json\", \"r\") as f:\n",
    "\n",
    "    api_key = json.load(f)\n",
    "    \n",
    "    key = api_key[\"key\"]\n",
    "    secret = api_key[\"secret\"]"
   ]
  },
  {
   "cell_type": "code",
   "execution_count": 2,
   "metadata": {
    "collapsed": false
   },
   "outputs": [
    {
     "ename": "TypeError",
     "evalue": "Unicode-objects must be encoded before hashing",
     "output_type": "error",
     "traceback": [
      "\u001b[0;31m---------------------------------------------------------------------------\u001b[0m",
      "\u001b[0;31mTypeError\u001b[0m                                 Traceback (most recent call last)",
      "\u001b[0;32m<ipython-input-2-8332a91156bf>\u001b[0m in \u001b[0;36m<module>\u001b[0;34m()\u001b[0m\n\u001b[1;32m     52\u001b[0m \u001b[0mparameters\u001b[0m \u001b[1;33m=\u001b[0m \u001b[1;34m\"op=theatersbypostalcodesearch&postalcode={0}\"\u001b[0m\u001b[1;33m.\u001b[0m\u001b[0mformat\u001b[0m\u001b[1;33m(\u001b[0m\u001b[0mzipCode\u001b[0m\u001b[1;33m)\u001b[0m\u001b[1;33m\u001b[0m\u001b[0m\n\u001b[1;32m     53\u001b[0m \u001b[1;33m\u001b[0m\u001b[0m\n\u001b[0;32m---> 54\u001b[0;31m \u001b[0mresponseFromServer\u001b[0m \u001b[1;33m=\u001b[0m \u001b[0mapi\u001b[0m\u001b[1;33m.\u001b[0m\u001b[0mGetResponse\u001b[0m\u001b[1;33m(\u001b[0m\u001b[0mparameters\u001b[0m\u001b[1;33m)\u001b[0m\u001b[1;33m\u001b[0m\u001b[0m\n\u001b[0m\u001b[1;32m     55\u001b[0m \u001b[1;33m\u001b[0m\u001b[0m\n\u001b[1;32m     56\u001b[0m \u001b[0mprint\u001b[0m\u001b[1;33m(\u001b[0m\u001b[0mresponseFromServer\u001b[0m\u001b[1;33m)\u001b[0m\u001b[1;33m\u001b[0m\u001b[0m\n",
      "\u001b[0;32m<ipython-input-2-8332a91156bf>\u001b[0m in \u001b[0;36mGetResponse\u001b[0;34m(self, parameters)\u001b[0m\n\u001b[1;32m     36\u001b[0m         \u001b[0msharedSecret\u001b[0m \u001b[1;33m=\u001b[0m \u001b[0msecret\u001b[0m\u001b[1;33m\u001b[0m\u001b[0m\n\u001b[1;32m     37\u001b[0m \u001b[1;33m\u001b[0m\u001b[0m\n\u001b[0;32m---> 38\u001b[0;31m         \u001b[0mauthorizationParameters\u001b[0m \u001b[1;33m=\u001b[0m \u001b[0mself\u001b[0m\u001b[1;33m.\u001b[0m\u001b[0mBuildAuthorizationParameters\u001b[0m\u001b[1;33m(\u001b[0m\u001b[0mapiKey\u001b[0m\u001b[1;33m,\u001b[0m \u001b[0msharedSecret\u001b[0m\u001b[1;33m)\u001b[0m\u001b[1;33m\u001b[0m\u001b[0m\n\u001b[0m\u001b[1;32m     39\u001b[0m         \u001b[0mrequestUri\u001b[0m \u001b[1;33m=\u001b[0m \u001b[1;34m\"{0}/v{1}/?{2}&{3}\"\u001b[0m\u001b[1;33m.\u001b[0m\u001b[0mformat\u001b[0m\u001b[1;33m(\u001b[0m\u001b[0mbaseUri\u001b[0m\u001b[1;33m,\u001b[0m \u001b[0mapiVersion\u001b[0m\u001b[1;33m,\u001b[0m \u001b[0mparameters\u001b[0m\u001b[1;33m,\u001b[0m \u001b[0mauthorizationParameters\u001b[0m\u001b[1;33m)\u001b[0m\u001b[1;33m\u001b[0m\u001b[0m\n\u001b[1;32m     40\u001b[0m \u001b[1;33m\u001b[0m\u001b[0m\n",
      "\u001b[0;32m<ipython-input-2-8332a91156bf>\u001b[0m in \u001b[0;36mBuildAuthorizationParameters\u001b[0;34m(self, apiKey, sharedSecret)\u001b[0m\n\u001b[1;32m     23\u001b[0m \u001b[1;33m\u001b[0m\u001b[0m\n\u001b[1;32m     24\u001b[0m         \u001b[0mparamsToEncode\u001b[0m \u001b[1;33m=\u001b[0m \u001b[1;34m\"{0}{1}{2}\"\u001b[0m\u001b[1;33m.\u001b[0m\u001b[0mformat\u001b[0m\u001b[1;33m(\u001b[0m\u001b[0mapiKey\u001b[0m\u001b[1;33m,\u001b[0m \u001b[0msharedSecret\u001b[0m\u001b[1;33m,\u001b[0m \u001b[0mint\u001b[0m\u001b[1;33m(\u001b[0m\u001b[0mtime\u001b[0m\u001b[1;33m.\u001b[0m\u001b[0mtime\u001b[0m\u001b[1;33m(\u001b[0m\u001b[1;33m)\u001b[0m\u001b[1;33m)\u001b[0m\u001b[1;33m)\u001b[0m\u001b[1;33m\u001b[0m\u001b[0m\n\u001b[0;32m---> 25\u001b[0;31m         \u001b[0mencodedParams\u001b[0m \u001b[1;33m=\u001b[0m \u001b[0mself\u001b[0m\u001b[1;33m.\u001b[0m\u001b[0mSha256Encode\u001b[0m\u001b[1;33m(\u001b[0m\u001b[0mparamsToEncode\u001b[0m\u001b[1;33m)\u001b[0m\u001b[1;33m\u001b[0m\u001b[0m\n\u001b[0m\u001b[1;32m     26\u001b[0m         \u001b[0mresult\u001b[0m \u001b[1;33m=\u001b[0m \u001b[1;34m\"apikey={0}&sig={1}\"\u001b[0m\u001b[1;33m.\u001b[0m\u001b[0mformat\u001b[0m\u001b[1;33m(\u001b[0m\u001b[0mapiKey\u001b[0m\u001b[1;33m,\u001b[0m \u001b[0mencodedParams\u001b[0m\u001b[1;33m)\u001b[0m\u001b[1;33m\u001b[0m\u001b[0m\n\u001b[1;32m     27\u001b[0m \u001b[1;33m\u001b[0m\u001b[0m\n",
      "\u001b[0;32m<ipython-input-2-8332a91156bf>\u001b[0m in \u001b[0;36mSha256Encode\u001b[0;34m(self, stringToEncode)\u001b[0m\n\u001b[1;32m     15\u001b[0m \u001b[1;33m\u001b[0m\u001b[0m\n\u001b[1;32m     16\u001b[0m         \u001b[0ms\u001b[0m \u001b[1;33m=\u001b[0m \u001b[0mhashlib\u001b[0m\u001b[1;33m.\u001b[0m\u001b[0msha256\u001b[0m\u001b[1;33m(\u001b[0m\u001b[1;33m)\u001b[0m\u001b[1;33m;\u001b[0m\u001b[1;33m\u001b[0m\u001b[0m\n\u001b[0;32m---> 17\u001b[0;31m         \u001b[0ms\u001b[0m\u001b[1;33m.\u001b[0m\u001b[0mupdate\u001b[0m\u001b[1;33m(\u001b[0m\u001b[0mstringToEncode\u001b[0m\u001b[1;33m)\u001b[0m\u001b[1;33m\u001b[0m\u001b[0m\n\u001b[0m\u001b[1;32m     18\u001b[0m         \u001b[0mresult\u001b[0m \u001b[1;33m=\u001b[0m \u001b[0ms\u001b[0m\u001b[1;33m.\u001b[0m\u001b[0mhexdigest\u001b[0m\u001b[1;33m(\u001b[0m\u001b[1;33m)\u001b[0m\u001b[1;33m\u001b[0m\u001b[0m\n\u001b[1;32m     19\u001b[0m \u001b[1;33m\u001b[0m\u001b[0m\n",
      "\u001b[0;31mTypeError\u001b[0m: Unicode-objects must be encoded before hashing"
     ]
    }
   ],
   "source": [
    "#\n",
    "# Works with version: Python 2.7.1 (r271:86832, Aug  5 2011, 03:30:24) \n",
    "#\n",
    "import hashlib # Source file: http://hg.python.org/cpython/file/2.7/Lib/hashlib.py\n",
    "import time\n",
    "import urllib\n",
    "\n",
    "class FandangoApiManager(object):\n",
    "\n",
    "    def __init__(self):\n",
    "        \n",
    "        self.FandangoApiManager = [ ]\n",
    "\n",
    "    def Sha256Encode(self, stringToEncode):\n",
    "\n",
    "        s = hashlib.sha256();\n",
    "        s.update(stringToEncode)\n",
    "        result = s.hexdigest()\n",
    "\n",
    "        return result\n",
    "\n",
    "    def BuildAuthorizationParameters(self, apiKey, sharedSecret):\n",
    "\n",
    "        paramsToEncode = \"{0}{1}{2}\".format(apiKey, sharedSecret, int(time.time()))\n",
    "        encodedParams = self.Sha256Encode(paramsToEncode)\n",
    "        result = \"apikey={0}&sig={1}\".format(apiKey, encodedParams)\n",
    "        \n",
    "        return result\n",
    "\n",
    "    def GetResponse(self, parameters):\n",
    "\n",
    "        baseUri = \"http://api.fandango.com\"\n",
    "        apiVersion = \"3\"\n",
    "\n",
    "        apiKey = key\n",
    "        sharedSecret = secret\n",
    "\n",
    "        authorizationParameters = self.BuildAuthorizationParameters(apiKey, sharedSecret)\n",
    "        requestUri = \"{0}/v{1}/?{2}&{3}\".format(baseUri, apiVersion, parameters, authorizationParameters)\n",
    "\n",
    "        response = urllib.urlopen(requestUri)\n",
    "        \n",
    "        result = response.read()\n",
    "        \n",
    "        return result\n",
    "\n",
    "\n",
    "\n",
    "api = FandangoApiManager()\n",
    "\n",
    "zipCode = \"92612\";\n",
    "parameters = \"op=theatersbypostalcodesearch&postalcode={0}\".format(zipCode)\n",
    "\n",
    "responseFromServer = api.GetResponse(parameters)\n",
    "\n",
    "print(responseFromServer)"
   ]
  }
 ],
 "metadata": {
  "kernelspec": {
   "display_name": "Python 3",
   "language": "python",
   "name": "python3"
  },
  "language_info": {
   "codemirror_mode": {
    "name": "ipython",
    "version": 3
   },
   "file_extension": ".py",
   "mimetype": "text/x-python",
   "name": "python",
   "nbconvert_exporter": "python",
   "pygments_lexer": "ipython3",
   "version": "3.6.0"
  }
 },
 "nbformat": 4,
 "nbformat_minor": 2
}
