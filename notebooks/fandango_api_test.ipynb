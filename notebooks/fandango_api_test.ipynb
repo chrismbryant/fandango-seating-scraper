{
 "cells": [
  {
   "cell_type": "markdown",
   "metadata": {},
   "source": [
    "# Testing the Fandango API"
   ]
  },
  {
   "cell_type": "code",
   "execution_count": 8,
   "metadata": {
    "collapsed": true
   },
   "outputs": [],
   "source": [
    "import json\n",
    "import requests\n",
    "\n",
    "with open(\"../fandango_api/api_key.json\", \"r\") as f:\n",
    "\n",
    "    api_key = json.load(f)\n",
    "    \n",
    "    key = api_key[\"key\"]\n",
    "    secret = api_key[\"secret\"]"
   ]
  },
  {
   "cell_type": "code",
   "execution_count": 17,
   "metadata": {
    "collapsed": false
   },
   "outputs": [
    {
     "name": "stdout",
     "output_type": "stream",
     "text": [
      "b'<h1>Developer Inactive</h1>'\n"
     ]
    }
   ],
   "source": [
    "#\n",
    "# Works with version: Python 2.7.1 (r271:86832, Aug  5 2011, 03:30:24) \n",
    "#\n",
    "import hashlib # Source file: http://hg.python.org/cpython/file/2.7/Lib/hashlib.py\n",
    "import time\n",
    "import urllib\n",
    "\n",
    "class FandangoApiManager(object):\n",
    "\n",
    "    def __init__(self):\n",
    "        \n",
    "        self.FandangoApiManager = [ ]\n",
    "\n",
    "    def Sha256Encode(self, stringToEncode):\n",
    "\n",
    "        s = hashlib.sha256();\n",
    "        s.update(stringToEncode.encode('utf-8'))\n",
    "        result = s.hexdigest()\n",
    "\n",
    "        return result\n",
    "\n",
    "    def BuildAuthorizationParameters(self, apiKey, sharedSecret):\n",
    "\n",
    "        paramsToEncode = \"{0}{1}{2}\".format(apiKey, sharedSecret, int(time.time()))\n",
    "        encodedParams = self.Sha256Encode(paramsToEncode)\n",
    "        result = \"apikey={0}&sig={1}\".format(apiKey, encodedParams)\n",
    "        \n",
    "        return result\n",
    "\n",
    "    def GetResponse(self, parameters):\n",
    "\n",
    "        baseUri = \"http://api.fandango.com\"\n",
    "        apiVersion = \"1\"\n",
    "\n",
    "        apiKey = key\n",
    "        sharedSecret = secret\n",
    "\n",
    "        authorizationParameters = self.BuildAuthorizationParameters(apiKey, sharedSecret)\n",
    "        requestUri = \"{0}/v{1}/?{2}&{3}\".format(baseUri, apiVersion, parameters, authorizationParameters)\n",
    "        \n",
    "        response = requests.get(requestUri)\n",
    "        \n",
    "        result = response.content\n",
    "        \n",
    "        return result\n",
    "\n",
    "\n",
    "api = FandangoApiManager()\n",
    "\n",
    "zipCode = \"92612\";\n",
    "parameters = \"op=theatersbypostalcodesearch&postalcode={0}\".format(zipCode)\n",
    "\n",
    "responseFromServer = api.GetResponse(parameters)\n",
    "\n",
    "print(responseFromServer)"
   ]
  },
  {
   "cell_type": "code",
   "execution_count": null,
   "metadata": {
    "collapsed": true
   },
   "outputs": [],
   "source": []
  }
 ],
 "metadata": {
  "kernelspec": {
   "display_name": "Python 3",
   "language": "python",
   "name": "python3"
  },
  "language_info": {
   "codemirror_mode": {
    "name": "ipython",
    "version": 3
   },
   "file_extension": ".py",
   "mimetype": "text/x-python",
   "name": "python",
   "nbconvert_exporter": "python",
   "pygments_lexer": "ipython3",
   "version": "3.6.0"
  }
 },
 "nbformat": 4,
 "nbformat_minor": 2
}
